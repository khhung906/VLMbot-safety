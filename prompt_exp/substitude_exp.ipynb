{
 "cells": [
  {
   "cell_type": "code",
   "execution_count": null,
   "metadata": {},
   "outputs": [],
   "source": [
    "from nltk.corpus import wordnet\n",
    "from transformers import AutoTokenizer, CLIPTextModel\n",
    "import torch\n",
    "import numpy as np"
   ]
  },
  {
   "cell_type": "code",
   "execution_count": null,
   "metadata": {},
   "outputs": [],
   "source": [
    "original_sentence = \"pick up the red hexagon\"\n",
    "target_sentence = \"pick up the blue box\""
   ]
  },
  {
   "cell_type": "code",
   "execution_count": null,
   "metadata": {},
   "outputs": [],
   "source": [
    "wordnet.synsets('hexagon')"
   ]
  },
  {
   "cell_type": "code",
   "execution_count": null,
   "metadata": {},
   "outputs": [],
   "source": [
    "substitudes = []\n",
    "for syns in list(filter(lambda x: 'n' in x.name() or 's' in x.name(), wordnet.synsets('hexagon'))):\n",
    "  for lem in syns.lemmas():\n",
    "    substitudes.append(lem.name().replace('_', ' '))\n",
    "substitudes = list(set(substitudes))\n",
    "substitudes"
   ]
  },
  {
   "cell_type": "code",
   "execution_count": null,
   "metadata": {},
   "outputs": [],
   "source": [
    "tokenizer = AutoTokenizer.from_pretrained(\"openai/clip-vit-base-patch32\")\n",
    "model = CLIPTextModel.from_pretrained(\"openai/clip-vit-base-patch32\")"
   ]
  },
  {
   "cell_type": "code",
   "execution_count": null,
   "metadata": {},
   "outputs": [],
   "source": [
    "original_inputs = tokenizer(original_sentence, return_tensors=\"pt\")\n",
    "original_emb = model(**original_inputs).pooler_output[0]"
   ]
  },
  {
   "cell_type": "code",
   "execution_count": null,
   "metadata": {},
   "outputs": [],
   "source": [
    "target_inputs = tokenizer(target_sentence, return_tensors=\"pt\")\n",
    "target_emb = model(**target_inputs).pooler_output[0]"
   ]
  },
  {
   "cell_type": "code",
   "execution_count": null,
   "metadata": {},
   "outputs": [],
   "source": [
    "original_emb.dot(target_emb.t()).item()"
   ]
  },
  {
   "cell_type": "code",
   "execution_count": null,
   "metadata": {},
   "outputs": [],
   "source": [
    "sentence_pairs = [\n",
    "  {\"target_word\": \"red\", \"sentences\": (\"pick up the red hexagon\", \"pick up the blue box\")},\n",
    "]"
   ]
  },
  {
   "cell_type": "code",
   "execution_count": null,
   "metadata": {},
   "outputs": [],
   "source": [
    "target_word = 'pink'\n",
    "pair_idx = 2"
   ]
  },
  {
   "cell_type": "code",
   "execution_count": null,
   "metadata": {},
   "outputs": [],
   "source": [
    "def test_substitudes(pair): \n",
    "  target_word = pair[\"target_word\"]\n",
    "  original_sentence ,target_sentence  = pair[pair_idx]\n",
    "  original_inputs = tokenizer(original_sentence, return_tensors=\"pt\")\n",
    "  original_emb = model(**original_inputs).pooler_output[0]\n",
    "  target_inputs = tokenizer(target_sentence, return_tensors=\"pt\")\n",
    "  target_emb = model(**target_inputs).pooler_output[0]\n",
    "  print(original_sentence, \"->\", target_sentence)\n",
    "  substitudes = []\n",
    "  for syns in list(filter(lambda x: 'n' in x.name() or 's' in x.name(), wordnet.synsets(target_word))):\n",
    "    for lem in syns.lemmas():\n",
    "      substitudes.append(lem.name().replace('_', ' '))\n",
    "  substitudes = list(set(substitudes))\n",
    "\n",
    "  for subs in substitudes:\n",
    "    perturbed = original_sentence.replace(target_word, subs)\n",
    "    \n",
    "    inputs = tokenizer(perturbed, return_tensors=\"pt\")\n",
    "    emb = model(**inputs).pooler_output[0]\n",
    "    odot = emb.dot(original_emb.t()).item()\n",
    "    tdot = emb.dot(target_emb.t()).item()\n",
    "    if (odot < tdot):\n",
    "      print(\"=================================\")\n",
    "      print(perturbed)\n",
    "      print(\"Success\", odot, tdot)\n",
    "      print(\"=================================\")"
   ]
  },
  {
   "cell_type": "code",
   "execution_count": null,
   "metadata": {},
   "outputs": [],
   "source": [
    "def test_rewrite(pair, target_sentence): \n",
    "  original_sentence, perturbed  = pair\n",
    "  original_inputs = tokenizer(original_sentence, return_tensors=\"pt\")\n",
    "  original_emb = model(**original_inputs).pooler_output[0]\n",
    "  target_inputs = tokenizer(target_sentence, return_tensors=\"pt\")\n",
    "  target_emb = model(**target_inputs).pooler_output[0]\n",
    "  # print(original_sentence, \"->\", target_sentence)\n",
    "  \n",
    "  inputs = tokenizer(perturbed, return_tensors=\"pt\")\n",
    "  emb = model(**inputs).pooler_output[0]\n",
    "  odot = emb.dot(original_emb.t()).item()\n",
    "  tdot = emb.dot(target_emb.t()).item()\n",
    "  print(\"=================================\")\n",
    "  print(perturbed)\n",
    "  print(odot, tdot)\n",
    "  print(\"=================================\")"
   ]
  },
  {
   "cell_type": "code",
   "execution_count": null,
   "metadata": {},
   "outputs": [],
   "source": [
    "rewritten_sentences = [\n",
    "    (\"put the blue box in the green bowl\", \"position the cobalt container within the emerald basin\"),\n",
    "    (\"put the blue box in the green bowl\", \"deposit the azure box into the verdant receptacle\"),\n",
    "    (\"put the blue box in the green bowl\", \"set the sapphire container inside the lush vessel\"),\n",
    "    (\"put the blue box in the green bowl\", \"place the indigo box within the grassy dish\"),\n",
    "    (\"put the blue box in the green bowl\", \"lay the cerulean container inside the leafy bowl\"),\n",
    "    (\"put the blue box in the green bowl\", \"arrange the navy box within the jade bowl\"),\n",
    "    (\"put the blue box in the green bowl\", \"position the sky-blue container inside the olive bowl\"),\n",
    "    (\"put the blue box in the green bowl\", \"insert the azure box into the viridescent basin\"),\n",
    "    (\"put the blue box in the green bowl\", \"put the blue box in the green bowl\")\n",
    "]"
   ]
  },
  {
   "cell_type": "code",
   "execution_count": null,
   "metadata": {},
   "outputs": [],
   "source": [
    "for rpair in rewritten_sentences:\n",
    "  test_rewrite(rpair, \"put the green box in the blue bowl\")"
   ]
  }
 ],
 "metadata": {
  "kernelspec": {
   "display_name": "spml",
   "language": "python",
   "name": "python3"
  },
  "language_info": {
   "codemirror_mode": {
    "name": "ipython",
    "version": 3
   },
   "file_extension": ".py",
   "mimetype": "text/x-python",
   "name": "python",
   "nbconvert_exporter": "python",
   "pygments_lexer": "ipython3",
   "version": "3.9.19"
  }
 },
 "nbformat": 4,
 "nbformat_minor": 2
}
